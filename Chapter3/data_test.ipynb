{
 "metadata": {
  "language_info": {
   "codemirror_mode": {
    "name": "ipython",
    "version": 3
   },
   "file_extension": ".py",
   "mimetype": "text/x-python",
   "name": "python",
   "nbconvert_exporter": "python",
   "pygments_lexer": "ipython3",
   "version": "3.6.10-final"
  },
  "orig_nbformat": 2,
  "kernelspec": {
   "name": "pytorch",
   "display_name": "PyTorch"
  }
 },
 "nbformat": 4,
 "nbformat_minor": 2,
 "cells": [
  {
   "cell_type": "code",
   "execution_count": 1,
   "metadata": {},
   "outputs": [],
   "source": [
    "#加载表格数据文件\n",
    "import torch\n",
    "import csv\n",
    "import numpy as np"
   ]
  },
  {
   "cell_type": "code",
   "execution_count": 3,
   "metadata": {
    "tags": []
   },
   "outputs": [
    {
     "output_type": "execute_result",
     "data": {
      "text/plain": "array([[ 7.  ,  0.27,  0.36, ...,  0.45,  8.8 ,  6.  ],\n       [ 6.3 ,  0.3 ,  0.34, ...,  0.49,  9.5 ,  6.  ],\n       [ 8.1 ,  0.28,  0.4 , ...,  0.44, 10.1 ,  6.  ],\n       ...,\n       [ 6.5 ,  0.24,  0.19, ...,  0.46,  9.4 ,  6.  ],\n       [ 5.5 ,  0.29,  0.3 , ...,  0.38, 12.8 ,  7.  ],\n       [ 6.  ,  0.21,  0.38, ...,  0.32, 11.8 ,  6.  ]], dtype=float32)"
     },
     "metadata": {},
     "execution_count": 3
    }
   ],
   "source": [
    "wine_path = './data/winequality-white.csv'\n",
    "wineq_numpy = np.loadtxt(wine_path, dtype=np.float32, delimiter=';', skiprows=1)\n",
    "wineq_numpy"
   ]
  },
  {
   "cell_type": "code",
   "execution_count": 5,
   "metadata": {},
   "outputs": [
    {
     "output_type": "execute_result",
     "data": {
      "text/plain": "((4898, 12),\n ['fixed acidity',\n  'volatile acidity',\n  'citric acid',\n  'residual sugar',\n  'chlorides',\n  'free sulfur dioxide',\n  'total sulfur dioxide',\n  'density',\n  'pH',\n  'sulphates',\n  'alcohol',\n  'quality'])"
     },
     "metadata": {},
     "execution_count": 5
    }
   ],
   "source": [
    "col_list = next(csv.reader(open(wine_path), delimiter=';'))\n",
    "wineq_numpy.shape, col_list"
   ]
  },
  {
   "cell_type": "code",
   "execution_count": 6,
   "metadata": {},
   "outputs": [
    {
     "output_type": "execute_result",
     "data": {
      "text/plain": "(torch.Size([4898, 12]), torch.float32)"
     },
     "metadata": {},
     "execution_count": 6
    }
   ],
   "source": [
    "wineq = torch.from_numpy(wineq_numpy)\n",
    "wineq.shape, wineq.dtype"
   ]
  },
  {
   "cell_type": "code",
   "execution_count": 7,
   "metadata": {},
   "outputs": [
    {
     "output_type": "execute_result",
     "data": {
      "text/plain": "(tensor([[ 7.0000,  0.2700,  0.3600,  ...,  3.0000,  0.4500,  8.8000],\n         [ 6.3000,  0.3000,  0.3400,  ...,  3.3000,  0.4900,  9.5000],\n         [ 8.1000,  0.2800,  0.4000,  ...,  3.2600,  0.4400, 10.1000],\n         ...,\n         [ 6.5000,  0.2400,  0.1900,  ...,  2.9900,  0.4600,  9.4000],\n         [ 5.5000,  0.2900,  0.3000,  ...,  3.3400,  0.3800, 12.8000],\n         [ 6.0000,  0.2100,  0.3800,  ...,  3.2600,  0.3200, 11.8000]]),\n torch.Size([4898, 11]))"
     },
     "metadata": {},
     "execution_count": 7
    }
   ],
   "source": [
    "data = wineq[:, :-1]\n",
    "data, data.shape"
   ]
  },
  {
   "cell_type": "code",
   "execution_count": 12,
   "metadata": {},
   "outputs": [
    {
     "output_type": "execute_result",
     "data": {
      "text/plain": "(tensor([6., 6., 6.,  ..., 6., 7., 6.]), torch.Size([4898]), torch.float32)"
     },
     "metadata": {},
     "execution_count": 12
    }
   ],
   "source": [
    "target = wineq[:, -1]\n",
    "target, target.shape, target.dtype"
   ]
  },
  {
   "cell_type": "code",
   "execution_count": 13,
   "metadata": {},
   "outputs": [
    {
     "output_type": "execute_result",
     "data": {
      "text/plain": "(tensor([6, 6, 6,  ..., 6, 7, 6]), torch.Size([4898]), torch.int64)"
     },
     "metadata": {},
     "execution_count": 13
    }
   ],
   "source": [
    "target = target.long()\n",
    "target, target.shape, target.dtype"
   ]
  },
  {
   "cell_type": "code",
   "execution_count": 22,
   "metadata": {},
   "outputs": [
    {
     "output_type": "execute_result",
     "data": {
      "text/plain": "tensor([[0., 0., 0.,  ..., 0., 0., 0.],\n        [0., 0., 0.,  ..., 0., 0., 0.],\n        [0., 0., 0.,  ..., 0., 0., 0.],\n        ...,\n        [0., 0., 0.,  ..., 0., 0., 0.],\n        [0., 0., 0.,  ..., 1., 0., 0.],\n        [0., 0., 0.,  ..., 0., 0., 0.]])"
     },
     "metadata": {},
     "execution_count": 22
    }
   ],
   "source": [
    "#热编码\n",
    "target_onehot = torch.zeros(target.shape[0], 10)\n",
    "target_onehot.scatter_(1, target.unsqueeze(1), 1.0)"
   ]
  },
  {
   "cell_type": "code",
   "execution_count": 28,
   "metadata": {},
   "outputs": [
    {
     "output_type": "execute_result",
     "data": {
      "text/plain": "tensor([6, 6, 6,  ..., 6, 7, 6])"
     },
     "metadata": {},
     "execution_count": 28
    }
   ],
   "source": [
    "target"
   ]
  },
  {
   "cell_type": "code",
   "execution_count": 30,
   "metadata": {},
   "outputs": [
    {
     "output_type": "execute_result",
     "data": {
      "text/plain": "tensor([[6],\n        [6],\n        [6],\n        ...,\n        [6],\n        [7],\n        [6]])"
     },
     "metadata": {},
     "execution_count": 30
    }
   ],
   "source": [
    "target_unsqueezed = target.unsqueeze(1)\n",
    "target_unsqueezed"
   ]
  },
  {
   "cell_type": "code",
   "execution_count": 42,
   "metadata": {},
   "outputs": [
    {
     "output_type": "execute_result",
     "data": {
      "text/plain": "tensor([[[1, 2]],\n\n        [[1, 2]]])"
     },
     "metadata": {},
     "execution_count": 42
    }
   ],
   "source": [
    "test_tensor = torch.tensor([[1, 2], [1, 2]])\n",
    "test_unsqueezed = test_tensor.unsqueeze(1)\n",
    "test_unsqueezed"
   ]
  },
  {
   "cell_type": "code",
   "execution_count": 46,
   "metadata": {},
   "outputs": [
    {
     "output_type": "execute_result",
     "data": {
      "text/plain": "tensor([6.8548e+00, 2.7824e-01, 3.3419e-01, 6.3914e+00, 4.5772e-02, 3.5308e+01,\n        1.3836e+02, 9.9403e-01, 3.1883e+00, 4.8985e-01, 1.0514e+01])"
     },
     "metadata": {},
     "execution_count": 46
    }
   ],
   "source": [
    "data_mean = torch.mean(data, dim=0)\n",
    "data_mean"
   ]
  },
  {
   "cell_type": "code",
   "execution_count": 47,
   "metadata": {},
   "outputs": [
    {
     "output_type": "execute_result",
     "data": {
      "text/plain": "tensor([7.1211e-01, 1.0160e-02, 1.4646e-02, 2.5726e+01, 4.7733e-04, 2.8924e+02,\n        1.8061e+03, 8.9455e-06, 2.2801e-02, 1.3025e-02, 1.5144e+00])"
     },
     "metadata": {},
     "execution_count": 47
    }
   ],
   "source": [
    "data_var = torch.var(data, dim=0)\n",
    "data_var"
   ]
  },
  {
   "cell_type": "code",
   "execution_count": 48,
   "metadata": {},
   "outputs": [
    {
     "output_type": "execute_result",
     "data": {
      "text/plain": "tensor([[ 1.7209e-01, -8.1764e-02,  2.1325e-01,  ..., -1.2468e+00,\n         -3.4914e-01, -1.3930e+00],\n        [-6.5743e-01,  2.1587e-01,  4.7991e-02,  ...,  7.3992e-01,\n          1.3467e-03, -8.2418e-01],\n        [ 1.4756e+00,  1.7448e-02,  5.4378e-01,  ...,  4.7502e-01,\n         -4.3677e-01, -3.3662e-01],\n        ...,\n        [-4.2042e-01, -3.7940e-01, -1.1915e+00,  ..., -1.3131e+00,\n         -2.6152e-01, -9.0544e-01],\n        [-1.6054e+00,  1.1666e-01, -2.8253e-01,  ...,  1.0048e+00,\n         -9.6250e-01,  1.8574e+00],\n        [-1.0129e+00, -6.7703e-01,  3.7852e-01,  ...,  4.7502e-01,\n         -1.4882e+00,  1.0448e+00]])"
     },
     "metadata": {},
     "execution_count": 48
    }
   ],
   "source": [
    "data_normalized = (data - data_mean) / torch.sqrt(data_var)\n",
    "data_normalized"
   ]
  },
  {
   "cell_type": "code",
   "execution_count": 49,
   "metadata": {},
   "outputs": [
    {
     "output_type": "execute_result",
     "data": {
      "text/plain": "(torch.Size([4898]), torch.bool, tensor(20))"
     },
     "metadata": {},
     "execution_count": 49
    }
   ],
   "source": [
    "bad_indexes = torch.le(target, 3)\n",
    "bad_indexes.shape, bad_indexes.dtype, bad_indexes.sum()"
   ]
  },
  {
   "cell_type": "code",
   "execution_count": 50,
   "metadata": {},
   "outputs": [
    {
     "output_type": "execute_result",
     "data": {
      "text/plain": "torch.Size([20, 11])"
     },
     "metadata": {},
     "execution_count": 50
    }
   ],
   "source": [
    "bad_data = data[bad_indexes]\n",
    "bad_data.shape"
   ]
  },
  {
   "cell_type": "code",
   "execution_count": 51,
   "metadata": {
    "tags": []
   },
   "outputs": [
    {
     "output_type": "stream",
     "name": "stdout",
     "text": "0 fixed acidity          7.60   6.89   6.73\n 1 volatile acidity       0.33   0.28   0.27\n 2 citric acid            0.34   0.34   0.33\n 3 residual sugar         6.39   6.71   5.26\n 4 chlorides              0.05   0.05   0.04\n 5 free sulfur dioxide   53.33  35.42  34.55\n 6 total sulfur dioxide 170.60 141.83 125.25\n 7 density                0.99   0.99   0.99\n 8 pH                     3.19   3.18   3.22\n 9 sulphates              0.47   0.49   0.50\n10 alcohol               10.34  10.26  11.42\n"
    }
   ],
   "source": [
    "bad_data = data[torch.le(target, 3)]\n",
    "# 对于numpy数组和PyTorch张量，＆运算符执行逻辑和运算\n",
    "mid_data = data[torch.gt(target, 3) & torch.lt(target, 7)]\n",
    "good_data = data[torch.ge(target, 7)]\n",
    "\n",
    "bad_mean = torch.mean(bad_data, dim=0)\n",
    "mid_mean = torch.mean(mid_data, dim=0)\n",
    "good_mean = torch.mean(good_data, dim=0)\n",
    "\n",
    "for i, args in enumerate(zip(col_list, bad_mean, mid_mean, good_mean)):\n",
    "    print('{:2} {:20} {:6.2f} {:6.2f} {:6.2f}'.format(i, *args))"
   ]
  },
  {
   "cell_type": "code",
   "execution_count": 52,
   "metadata": {},
   "outputs": [
    {
     "output_type": "execute_result",
     "data": {
      "text/plain": "(torch.Size([4898]), torch.bool, tensor(2727))"
     },
     "metadata": {},
     "execution_count": 52
    }
   ],
   "source": [
    "total_sulfur_dioxide = 141.83\n",
    "total_sulfur_data = data[:, 6]\n",
    "predicted_indexes = torch.lt(total_sulfur_data, total_sulfur_dioxide)\n",
    "predicted_indexes.shape, predicted_indexes.dtype, predicted_indexes.sum()"
   ]
  },
  {
   "cell_type": "code",
   "execution_count": 53,
   "metadata": {},
   "outputs": [
    {
     "output_type": "execute_result",
     "data": {
      "text/plain": "(torch.Size([4898]), torch.bool, tensor(3258))"
     },
     "metadata": {},
     "execution_count": 53
    }
   ],
   "source": [
    "actual_indexes = torch.gt(target, 5)\n",
    "actual_indexes.shape, actual_indexes.dtype, actual_indexes.sum()"
   ]
  },
  {
   "cell_type": "code",
   "execution_count": 54,
   "metadata": {},
   "outputs": [
    {
     "output_type": "execute_result",
     "data": {
      "text/plain": "(2018, 0.74000733406674, 0.6193984039287906)"
     },
     "metadata": {},
     "execution_count": 54
    }
   ],
   "source": [
    "n_matches = torch.sum(actual_indexes & predicted_indexes).item()\n",
    "n_predicted = torch.sum(predicted_indexes).item()\n",
    "n_actual = torch.sum(actual_indexes).item()\n",
    "n_matches, n_matches / n_predicted, n_matches / n_actual"
   ]
  },
  {
   "cell_type": "code",
   "execution_count": 57,
   "metadata": {},
   "outputs": [
    {
     "output_type": "execute_result",
     "data": {
      "text/plain": "tensor([[1.0000e+00, 1.0000e+00, 1.0000e+00,  ..., 3.0000e+00, 1.3000e+01,\n         1.6000e+01],\n        [2.0000e+00, 1.0000e+00, 1.0000e+00,  ..., 8.0000e+00, 3.2000e+01,\n         4.0000e+01],\n        [3.0000e+00, 1.0000e+00, 1.0000e+00,  ..., 5.0000e+00, 2.7000e+01,\n         3.2000e+01],\n        ...,\n        [1.7377e+04, 3.1000e+01, 1.0000e+00,  ..., 7.0000e+00, 8.3000e+01,\n         9.0000e+01],\n        [1.7378e+04, 3.1000e+01, 1.0000e+00,  ..., 1.3000e+01, 4.8000e+01,\n         6.1000e+01],\n        [1.7379e+04, 3.1000e+01, 1.0000e+00,  ..., 1.2000e+01, 3.7000e+01,\n         4.9000e+01]])"
     },
     "metadata": {},
     "execution_count": 57
    }
   ],
   "source": [
    "bikes_numpy = np.loadtxt(\"./data/hour-fixed.csv\",\n",
    "                         dtype=np.float32,\n",
    "                         delimiter=\",\",\n",
    "                         skiprows=1,\n",
    "                         converters={1: lambda x: float(x[8:10])})\n",
    "bikes = torch.from_numpy(bikes_numpy) \n",
    "bikes"
   ]
  },
  {
   "cell_type": "code",
   "execution_count": 58,
   "metadata": {},
   "outputs": [
    {
     "output_type": "execute_result",
     "data": {
      "text/plain": "['instant',\n 'dteday',\n 'season',\n 'yr',\n 'mnth',\n 'hr',\n 'holiday',\n 'weekday',\n 'workingday',\n 'weathersit',\n 'temp',\n 'atemp',\n 'hum',\n 'windspeed',\n 'casual',\n 'registered',\n 'cnt']"
     },
     "metadata": {},
     "execution_count": 58
    }
   ],
   "source": [
    "col_list = next(csv.reader(open('./data/hour-fixed.csv'), delimiter=','))\n",
    "col_list"
   ]
  },
  {
   "cell_type": "code",
   "execution_count": 60,
   "metadata": {},
   "outputs": [
    {
     "output_type": "execute_result",
     "data": {
      "text/plain": "(torch.Size([17520, 17]), (17, 1))"
     },
     "metadata": {},
     "execution_count": 60
    }
   ],
   "source": [
    "bikes.shape, bikes.stride()"
   ]
  },
  {
   "cell_type": "code",
   "execution_count": 61,
   "metadata": {},
   "outputs": [
    {
     "output_type": "execute_result",
     "data": {
      "text/plain": "(torch.Size([730, 24, 17]), (408, 17, 1))"
     },
     "metadata": {},
     "execution_count": 61
    }
   ],
   "source": [
    "daily_bikes = bikes.view(-1, 24, bikes.shape[1])\n",
    "daily_bikes.shape, daily_bikes.stride()"
   ]
  },
  {
   "cell_type": "code",
   "execution_count": 62,
   "metadata": {},
   "outputs": [
    {
     "output_type": "execute_result",
     "data": {
      "text/plain": "(torch.Size([730, 17, 24]), (408, 1, 17))"
     },
     "metadata": {},
     "execution_count": 62
    }
   ],
   "source": [
    "daily_bikes = daily_bikes.transpose(1, 2) \n",
    "daily_bikes.shape, daily_bikes.stride()"
   ]
  },
  {
   "cell_type": "code",
   "execution_count": 63,
   "metadata": {},
   "outputs": [
    {
     "output_type": "execute_result",
     "data": {
      "text/plain": "tensor([1, 1, 1, 1, 1, 2, 1, 1, 1, 1, 1, 1, 1, 2, 2, 2, 2, 2, 3, 3, 2, 2, 2, 2])"
     },
     "metadata": {},
     "execution_count": 63
    }
   ],
   "source": [
    "first_day = bikes[:24].long() \n",
    "weather_onehot = torch.zeros(first_day.shape[0], 4) \n",
    "first_day[:,9]"
   ]
  },
  {
   "cell_type": "code",
   "execution_count": 66,
   "metadata": {},
   "outputs": [
    {
     "output_type": "execute_result",
     "data": {
      "text/plain": "tensor([[1., 0., 0., 0.],\n        [1., 0., 0., 0.],\n        [1., 0., 0., 0.],\n        [1., 0., 0., 0.],\n        [1., 0., 0., 0.],\n        [0., 1., 0., 0.],\n        [1., 0., 0., 0.],\n        [1., 0., 0., 0.],\n        [1., 0., 0., 0.],\n        [1., 0., 0., 0.],\n        [1., 0., 0., 0.],\n        [1., 0., 0., 0.],\n        [1., 0., 0., 0.],\n        [0., 1., 0., 0.],\n        [0., 1., 0., 0.],\n        [0., 1., 0., 0.],\n        [0., 1., 0., 0.],\n        [0., 1., 0., 0.],\n        [0., 0., 1., 0.],\n        [0., 0., 1., 0.],\n        [0., 1., 0., 0.],\n        [0., 1., 0., 0.],\n        [0., 1., 0., 0.],\n        [0., 1., 0., 0.]])"
     },
     "metadata": {},
     "execution_count": 66
    }
   ],
   "source": [
    "weather_onehot.scatter_(\n",
    "  dim=1,\n",
    "  index=first_day[:,9].unsqueeze(1) - 1,\n",
    "  value=1.0)"
   ]
  },
  {
   "cell_type": "code",
   "execution_count": 67,
   "metadata": {},
   "outputs": [
    {
     "output_type": "execute_result",
     "data": {
      "text/plain": "tensor([[ 1.0000,  1.0000,  1.0000,  0.0000,  1.0000,  0.0000,  0.0000,  6.0000,\n          0.0000,  1.0000,  0.2400,  0.2879,  0.8100,  0.0000,  3.0000, 13.0000,\n         16.0000,  1.0000,  0.0000,  0.0000,  0.0000]])"
     },
     "metadata": {},
     "execution_count": 67
    }
   ],
   "source": [
    "torch.cat((bikes[:24], weather_onehot), 1)[:1]"
   ]
  },
  {
   "cell_type": "code",
   "execution_count": 68,
   "metadata": {},
   "outputs": [
    {
     "output_type": "execute_result",
     "data": {
      "text/plain": "torch.Size([730, 4, 24])"
     },
     "metadata": {},
     "execution_count": 68
    }
   ],
   "source": [
    "daily_weather_onehot = torch.zeros(daily_bikes.shape[0], 4,\n",
    "daily_bikes.shape[2]) \n",
    "daily_weather_onehot.shape"
   ]
  },
  {
   "cell_type": "code",
   "execution_count": 69,
   "metadata": {},
   "outputs": [
    {
     "output_type": "execute_result",
     "data": {
      "text/plain": "torch.Size([730, 4, 24])"
     },
     "metadata": {},
     "execution_count": 69
    }
   ],
   "source": [
    "daily_weather_onehot.scatter_(1, daily_bikes[:,9,:].long().unsqueeze(1) - 1,\n",
    "                                                            1.0) \n",
    "daily_weather_onehot.shape"
   ]
  },
  {
   "cell_type": "code",
   "execution_count": 70,
   "metadata": {},
   "outputs": [],
   "source": [
    "daily_bikes = torch.cat((daily_bikes, daily_weather_onehot), dim=1)"
   ]
  },
  {
   "cell_type": "code",
   "execution_count": 73,
   "metadata": {},
   "outputs": [],
   "source": [
    "temp = daily_bikes[:, 10, :]\n",
    "temp_min = torch.min(temp)\n",
    "temp_max = torch.max(temp)\n",
    "temp = daily_bikes[:, 10, :] \n",
    "daily_bikes[:, 10, :] = (daily_bikes[:, 10, :] - torch.mean(temp)) / torch.std(temp)"
   ]
  },
  {
   "cell_type": "code",
   "execution_count": 75,
   "metadata": {},
   "outputs": [
    {
     "output_type": "execute_result",
     "data": {
      "text/plain": "'      Michaelmas, and some of his servants are to be in the house by'"
     },
     "metadata": {},
     "execution_count": 75
    }
   ],
   "source": [
    "with open('./data/1342-0.txt', encoding='utf8') as f:\n",
    "    text = f.read()\n",
    "lines = text.split('\\n')\n",
    "line = lines[200]\n",
    "line"
   ]
  },
  {
   "cell_type": "code",
   "execution_count": 80,
   "metadata": {},
   "outputs": [
    {
     "output_type": "execute_result",
     "data": {
      "text/plain": "torch.Size([62, 128])"
     },
     "metadata": {},
     "execution_count": 80
    }
   ],
   "source": [
    "#创建张量\n",
    "letter_tensor = torch.zeros(len(line.lower().strip()), 128)\n",
    "letter_tensor.shape"
   ]
  },
  {
   "cell_type": "code",
   "execution_count": 81,
   "metadata": {},
   "outputs": [],
   "source": [
    "for i, letter in enumerate(line.lower().strip()):\n",
    "    # 屏蔽非有效ASCII码\n",
    "    letter_index = ord(letter) if ord(letter) < 128 else 0\n",
    "    letter_tensor[i][letter_index] = 1"
   ]
  },
  {
   "cell_type": "code",
   "execution_count": 84,
   "metadata": {
    "tags": []
   },
   "outputs": [
    {
     "output_type": "execute_result",
     "data": {
      "text/plain": "('      Michaelmas, and some of his servants are to be in the house by',\n ['michaelmas',\n  'and',\n  'some',\n  'of',\n  'his',\n  'servants',\n  'are',\n  'to',\n  'be',\n  'in',\n  'the',\n  'house',\n  'by'])"
     },
     "metadata": {},
     "execution_count": 84
    }
   ],
   "source": [
    "def clean_words(input_str):\n",
    "    punctuation = '.,;:\"!?”“_-'\n",
    "    word_list = input_str.lower().replace('\\n',' ').split()\n",
    "    word_list = [word.strip(punctuation) for word in word_list]\n",
    "    return word_list\n",
    "words_in_line = clean_words(line)\n",
    "line, words_in_line"
   ]
  },
  {
   "cell_type": "code",
   "execution_count": 85,
   "metadata": {},
   "outputs": [
    {
     "output_type": "execute_result",
     "data": {
      "text/plain": "(7278, 3383)"
     },
     "metadata": {},
     "execution_count": 85
    }
   ],
   "source": [
    "word_list = sorted(set(clean_words(text)))\n",
    "word2index_dict = {word: i for (i, word) in enumerate(word_list)}\n",
    "len(word2index_dict), word2index_dict['impossible']"
   ]
  },
  {
   "cell_type": "code",
   "execution_count": 86,
   "metadata": {
    "tags": []
   },
   "outputs": [
    {
     "output_type": "stream",
     "name": "stdout",
     "text": "0 4167 michaelmas\n 1  429 and\n 2 6045 some\n 3 4511 of\n 4 3216 his\n 5 5842 servants\n 6  531 are\n 7 6546 to\n 8  728 be\n 9 3409 in\n10 6466 the\n11 3253 house\n12  981 by\ntorch.Size([13, 7278])\n"
    }
   ],
   "source": [
    "word_tensor = torch.zeros(len(words_in_line), len(word2index_dict))\n",
    "for i, word in enumerate(words_in_line):\n",
    "    word_index = word2index_dict[word]\n",
    "    word_tensor[i][word_index] = 1\n",
    "    print('{:2} {:4} {}'.format(i, word_index, word))\n",
    "\n",
    "print(word_tensor.shape)"
   ]
  },
  {
   "cell_type": "code",
   "execution_count": 89,
   "metadata": {},
   "outputs": [
    {
     "output_type": "execute_result",
     "data": {
      "text/plain": "(720, 1280, 3)"
     },
     "metadata": {},
     "execution_count": 89
    }
   ],
   "source": [
    "import imageio\n",
    "img_arr = imageio.imread('./data/bobby.jpg')\n",
    "img_arr.shape"
   ]
  },
  {
   "cell_type": "code",
   "execution_count": 92,
   "metadata": {},
   "outputs": [
    {
     "output_type": "execute_result",
     "data": {
      "text/plain": "torch.Size([3, 1280, 720])"
     },
     "metadata": {},
     "execution_count": 92
    }
   ],
   "source": [
    "img = torch.from_numpy(img_arr)\n",
    "out = img.transpose(0, 2)\n",
    "out.shape"
   ]
  },
  {
   "cell_type": "code",
   "execution_count": 103,
   "metadata": {},
   "outputs": [],
   "source": [
    "batch_size = 100\n",
    "batch = torch.zeros(100, 3, 256, 256, dtype=torch.uint8)"
   ]
  },
  {
   "cell_type": "code",
   "execution_count": 108,
   "metadata": {
    "tags": []
   },
   "outputs": [
    {
     "output_type": "stream",
     "name": "stdout",
     "text": "tensor([[[156, 174, 127,  ..., 116, 129, 129],\n         [152, 134, 156,  ..., 130, 130, 123],\n         [124, 165, 107,  ..., 129, 123, 118],\n         ...,\n         [150, 120, 131,  ..., 127, 115, 113],\n         [149, 136, 143,  ..., 118, 121, 121],\n         [158, 138, 164,  ..., 112, 114, 120]],\n\n        [[139, 160, 113,  ...,  99, 111, 111],\n         [135, 119, 140,  ..., 110, 111, 104],\n         [109, 149,  90,  ..., 111, 106, 102],\n         ...,\n         [135, 105, 118,  ..., 117, 106, 103],\n         [135, 122, 129,  ..., 108, 112, 110],\n         [147, 124, 152,  ..., 103, 105, 111]],\n\n        [[129, 155, 104,  ...,  93, 108, 107],\n         [123, 110, 132,  ..., 108, 108,  98],\n         [ 98, 137,  80,  ..., 105,  98,  95],\n         ...,\n         [131, 102, 112,  ..., 125, 110, 108],\n         [132, 119, 125,  ..., 115, 117, 115],\n         [145, 121, 146,  ..., 108, 110, 116]]], dtype=torch.uint8)\ntensor([[[202, 199, 198,  ...,  93,  75,  85],\n         [193, 192, 193,  ...,  82,  68, 103],\n         [190, 189, 188,  ...,  76, 101,  90],\n         ...,\n         [ 13,  14,  12,  ...,  36,  36,  36],\n         [ 13,  14,  12,  ...,  36,  36,  37],\n         [ 12,  14,  12,  ...,  36,  37,  38]],\n\n        [[151, 151, 152,  ...,  57,  33,  40],\n         [139, 140, 143,  ...,  45,  26,  58],\n         [133, 134, 134,  ...,  39,  59,  45],\n         ...,\n         [  9,  11,  11,  ...,  26,  26,  26],\n         [  9,  11,  11,  ...,  26,  26,  27],\n         [  8,  11,  11,  ...,  26,  27,  28]],\n\n        [[ 68,  67,  67,  ...,  31,  11,  19],\n         [ 53,  54,  56,  ...,  19,   2,  37],\n         [ 44,  44,  44,  ...,  12,  35,  22],\n         ...,\n         [  6,   6,   6,  ...,  17,  17,  17],\n         [  6,   6,   6,  ...,  17,  17,  18],\n         [  5,   6,   6,  ...,  17,  18,  19]]], dtype=torch.uint8)\ntensor([[[238, 238, 238,  ..., 214, 214, 214],\n         [238, 238, 238,  ..., 213, 213, 213],\n         [238, 238, 238,  ..., 212, 212, 212],\n         ...,\n         [214, 214, 214,  ..., 187, 186, 186],\n         [215, 215, 215,  ..., 190, 190, 190],\n         [215, 215, 215,  ..., 193, 192, 192]],\n\n        [[195, 195, 195,  ..., 128, 128, 128],\n         [195, 195, 195,  ..., 127, 127, 127],\n         [195, 195, 195,  ..., 126, 126, 126],\n         ...,\n         [173, 173, 173,  ..., 100,  99,  99],\n         [175, 175, 175,  ..., 103, 103, 103],\n         [175, 175, 175,  ..., 106, 105, 105]],\n\n        [[137, 137, 137,  ...,  79,  79,  79],\n         [137, 137, 137,  ...,  78,  78,  78],\n         [137, 137, 137,  ...,  77,  77,  77],\n         ...,\n         [125, 125, 125,  ...,  64,  64,  65],\n         [126, 126, 126,  ...,  68,  69,  69],\n         [126, 126, 126,  ...,  72,  71,  72]]], dtype=torch.uint8)\n"
    }
   ],
   "source": [
    "import os\n",
    "data_dir = './data/image-cats'\n",
    "names = os.listdir(data_dir)\n",
    "# for name in names:\n",
    "#     print(os.path.splitext(name)[1] == '.png')\n",
    "filenames = [name for name in os.listdir(data_dir) if os.path.splitext(name)[1] == '.png']\n",
    "for i, filename in enumerate(filenames):\n",
    "  img_arr = imageio.imread(data_dir + '/' +filename)\n",
    "#   img = torch.from_numpy(img_arr)[:, :, 0:3]\n",
    "  batch[i] = torch.transpose(torch.from_numpy(img_arr)[:, :, 0:3], 0, 2)\n",
    "  print(batch[i])"
   ]
  },
  {
   "cell_type": "code",
   "execution_count": 109,
   "metadata": {},
   "outputs": [],
   "source": [
    "batch = batch.float()\n",
    "batch /= 255.0"
   ]
  },
  {
   "cell_type": "code",
   "execution_count": 110,
   "metadata": {},
   "outputs": [],
   "source": [
    "n_channels = batch.shape[1]\n",
    "for c in range(n_channels):\n",
    "  mean = torch.mean(batch[:, c])\n",
    "  std = torch.std(batch[:, c])\n",
    "  batch[:, c] = (batch[:, c] - mean) / std"
   ]
  },
  {
   "cell_type": "code",
   "execution_count": 113,
   "metadata": {
    "tags": []
   },
   "outputs": [
    {
     "output_type": "stream",
     "name": "stdout",
     "text": "Reading DICOM (examining files):1/99 files (1.0%99/99 files (100.0%)\n  Found 1 correct series.\nReading DICOM (loading data):60/99  (60.699/99  (100.0%)\n"
    },
    {
     "output_type": "execute_result",
     "data": {
      "text/plain": "(99, 512, 512)"
     },
     "metadata": {},
     "execution_count": 113
    }
   ],
   "source": [
    "import imageio\n",
    "dir_path = './data/volumetric-dicom/2-LUNG 3.0  B70f-04083/'\n",
    "vol_arr = imageio.volread(dir_path, 'DICOM') \n",
    "vol_arr.shape"
   ]
  },
  {
   "cell_type": "code",
   "execution_count": 114,
   "metadata": {},
   "outputs": [
    {
     "output_type": "execute_result",
     "data": {
      "text/plain": "torch.Size([1, 512, 512, 99])"
     },
     "metadata": {},
     "execution_count": 114
    }
   ],
   "source": [
    "vol = torch.from_numpy(vol_arr).float() \n",
    "vol = torch.transpose(vol, 0, 2) \n",
    "vol = torch.unsqueeze(vol, 0)\n",
    "vol.shape"
   ]
  }
 ]
}