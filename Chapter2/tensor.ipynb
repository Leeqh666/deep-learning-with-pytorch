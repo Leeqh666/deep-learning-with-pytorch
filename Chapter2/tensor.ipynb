{
 "cells": [
  {
   "cell_type": "code",
   "execution_count": 2,
   "metadata": {},
   "outputs": [],
   "source": [
    "import torch"
   ]
  },
  {
   "cell_type": "code",
   "execution_count": 3,
   "metadata": {},
   "outputs": [
    {
     "output_type": "execute_result",
     "data": {
      "text/plain": "False"
     },
     "metadata": {},
     "execution_count": 3
    }
   ],
   "source": [
    "torch.cuda.is_available()"
   ]
  },
  {
   "cell_type": "code",
   "execution_count": 4,
   "metadata": {
    "tags": []
   },
   "outputs": [
    {
     "output_type": "stream",
     "name": "stdout",
     "text": "tensor([[5.3901e+19, 3.7975e-43, 5.3901e+19],\n        [3.7975e-43, 5.3903e+19, 3.7975e-43],\n        [5.3903e+19, 3.7975e-43, 5.3893e+19],\n        [3.7975e-43, 5.3893e+19, 3.7975e-43],\n        [5.3903e+19, 3.7975e-43, 5.3903e+19]])\n"
    }
   ],
   "source": [
    "x = torch.empty(5, 3)\n",
    "print(x)"
   ]
  },
  {
   "cell_type": "code",
   "execution_count": 5,
   "metadata": {
    "tags": []
   },
   "outputs": [
    {
     "output_type": "stream",
     "name": "stdout",
     "text": "tensor([[0.1968, 0.0029, 0.6655],\n        [0.0897, 0.9851, 0.6242],\n        [0.7314, 0.2116, 0.0553],\n        [0.0649, 0.2155, 0.1037],\n        [0.6530, 0.4499, 0.3581]])\n"
    }
   ],
   "source": [
    "x = torch.rand(5, 3)\n",
    "print(x)"
   ]
  },
  {
   "cell_type": "code",
   "execution_count": 6,
   "metadata": {
    "tags": []
   },
   "outputs": [
    {
     "output_type": "stream",
     "name": "stdout",
     "text": "tensor([[0, 0, 0],\n        [0, 0, 0],\n        [0, 0, 0],\n        [0, 0, 0],\n        [0, 0, 0]])\n"
    }
   ],
   "source": [
    "x = torch.zeros(5, 3, dtype=torch.long)\n",
    "print(x)"
   ]
  },
  {
   "cell_type": "code",
   "execution_count": 8,
   "metadata": {},
   "outputs": [
    {
     "output_type": "execute_result",
     "data": {
      "text/plain": " 1.0\n 4.0\n 2.0\n 1.0\n 3.0\n 5.0\n[torch.FloatStorage of size 6]"
     },
     "metadata": {},
     "execution_count": 8
    }
   ],
   "source": [
    "points = torch.tensor([[1.0, 4.0], [2.0, 1.0], [3.0, 5.0]])\n",
    "print(points.storage())"
   ]
  },
  {
   "cell_type": "code",
   "execution_count": 9,
   "metadata": {
    "tags": []
   },
   "outputs": [
    {
     "output_type": "stream",
     "name": "stdout",
     "text": "1.0\n"
    }
   ],
   "source": [
    "#手动索引到存储中\n",
    "points_storage = points.storage()\n",
    "print(points_storage[0])"
   ]
  },
  {
   "cell_type": "code",
   "execution_count": null,
   "metadata": {},
   "outputs": [],
   "source": [
    "points = torch.tensor([[1.0, 4.0], [2.0, 1.0], [3.0, 5.0]])\n",
    "points_storage = points.storage()\n",
    "points_storage[0] = 2.0\n",
    "points"
   ]
  },
  {
   "cell_type": "code",
   "execution_count": 11,
   "metadata": {},
   "outputs": [
    {
     "output_type": "execute_result",
     "data": {
      "text/plain": "2"
     },
     "metadata": {},
     "execution_count": 11
    }
   ],
   "source": [
    "points = torch.tensor([[1.0, 4.0], [2.0, 1.0], [3.0, 5.0]])\n",
    "second_point = points[1]\n",
    "second_point.storage_offset()"
   ]
  },
  {
   "cell_type": "code",
   "execution_count": 12,
   "metadata": {
    "tags": []
   },
   "outputs": [
    {
     "output_type": "stream",
     "name": "stdout",
     "text": "torch.Size([2])\ntorch.Size([2])\n"
    }
   ],
   "source": [
    "#张量尺寸信息与张量对象的shape属性中包含的信息相同\n",
    "print(second_point.size())\n",
    "print(second_point.shape)"
   ]
  },
  {
   "cell_type": "code",
   "execution_count": 13,
   "metadata": {
    "tags": []
   },
   "outputs": [
    {
     "output_type": "stream",
     "name": "stdout",
     "text": "(2, 1)\n"
    }
   ],
   "source": [
    "#步长是一个元组，表示当索引在每个维度上增加1时必须跳过的存储中元素的数量。\n",
    "print(points.stride())"
   ]
  },
  {
   "cell_type": "code",
   "execution_count": 15,
   "metadata": {
    "tags": []
   },
   "outputs": [
    {
     "output_type": "stream",
     "name": "stdout",
     "text": "tensor([[1., 4.],\n        [2., 1.],\n        [3., 5.]])\ntensor([10.,  1.])\n"
    }
   ],
   "source": [
    "#对克隆的子向量进行操作不会影响到原向量\n",
    "points = torch.tensor([[1.0, 4.0], [2.0, 1.0], [3.0, 5.0]])\n",
    "second_point = points[1].clone()\n",
    "second_point[0] = 10.0\n",
    "print(points)\n",
    "print(second_point)"
   ]
  },
  {
   "cell_type": "code",
   "execution_count": 20,
   "metadata": {
    "tags": []
   },
   "outputs": [
    {
     "output_type": "stream",
     "name": "stdout",
     "text": "tensor([[1., 4.],\n        [2., 1.],\n        [3., 5.]])\ntensor([[1., 2., 3.],\n        [4., 1., 5.]])\ntorch.Size([3, 2]) (2, 1)\ntorch.Size([2, 3]) (1, 2)\nTrue\n"
    }
   ],
   "source": [
    "#转置操作得到的新向量与原向量共用一个存储，只是步长和尺寸不同\n",
    "points = torch.tensor([[1.0, 4.0], [2.0 ,1.0], [3.0, 5.0]])\n",
    "points_t = points.t()\n",
    "print(points)\n",
    "print(points_t)\n",
    "print(points.size(), points.stride())\n",
    "print(points_t.size(), points_t.stride())\n",
    "print(id(points.storage()) == id(points_t.storage()))"
   ]
  },
  {
   "cell_type": "code",
   "execution_count": 19,
   "metadata": {
    "tags": []
   },
   "outputs": [
    {
     "output_type": "stream",
     "name": "stdout",
     "text": "torch.Size([3, 4, 5]) (20, 5, 1)\ntorch.Size([5, 4, 3]) (1, 5, 20)\n"
    }
   ],
   "source": [
    "#在PyTorch中进行转置不仅限于矩阵（即二维数组）。以翻转三维数组的步长和尺寸为例，你可以通过指定应需要转置的两个维度来转置多维数组\n",
    "some_tensor = torch.ones(3, 4, 5)\n",
    "print(some_tensor.shape, some_tensor.stride())\n",
    "some_tensor_t = some_tensor.transpose(0, 2)\n",
    "print(some_tensor_t.shape, some_tensor_t.stride())"
   ]
  },
  {
   "cell_type": "code",
   "execution_count": 28,
   "metadata": {
    "tags": []
   },
   "outputs": [
    {
     "output_type": "stream",
     "name": "stdout",
     "text": "True False\n"
    }
   ],
   "source": [
    "#比较连续性\n",
    "print(points.is_contiguous(), points_t.is_contiguous())"
   ]
  },
  {
   "cell_type": "code",
   "execution_count": 33,
   "metadata": {
    "tags": []
   },
   "outputs": [
    {
     "output_type": "stream",
     "name": "stdout",
     "text": "1.0\n 4.0\n 2.0\n 1.0\n 3.0\n 5.0\n[torch.FloatStorage of size 6]\n 1.0\n 2.0\n 3.0\n 4.0\n 1.0\n 5.0\n[torch.FloatStorage of size 6]\nFalse\n"
    }
   ],
   "source": [
    "points_storage = points.storage()\n",
    "points_t_cont = points_t.contiguous()\n",
    "points_t_cont_storage = points_t_cont.storage()\n",
    "print(points_storage, points_t_cont_storage, sep='\\n')\n",
    "print(id(points_storage) == id(points_t_cont_storage))"
   ]
  },
  {
   "cell_type": "code",
   "execution_count": 34,
   "metadata": {},
   "outputs": [],
   "source": [
    "double_points = torch.ones(10, 2, dtype=torch.double)\n",
    "short_points = torch.tensor([[1, 2], [3, 4]], dtype=torch.short)"
   ]
  },
  {
   "cell_type": "code",
   "execution_count": 35,
   "metadata": {
    "tags": []
   },
   "outputs": [
    {
     "output_type": "stream",
     "name": "stdout",
     "text": "torch.float64 torch.int16\n"
    }
   ],
   "source": [
    "print(double_points.dtype, short_points.dtype)"
   ]
  },
  {
   "cell_type": "code",
   "execution_count": 38,
   "metadata": {
    "tags": []
   },
   "outputs": [
    {
     "output_type": "stream",
     "name": "stdout",
     "text": "torch.float32\ntorch.float64\ntorch.float32\n"
    }
   ],
   "source": [
    "#转换数据类型的to和type方法\n",
    "points = torch.randn(5, 3)\n",
    "print(points.dtype)\n",
    "points = points.to(torch.double)\n",
    "print(points.dtype)\n",
    "points = points.type(torch.float)\n",
    "print(points.dtype)"
   ]
  },
  {
   "cell_type": "code",
   "execution_count": 43,
   "metadata": {
    "tags": []
   },
   "outputs": [
    {
     "output_type": "stream",
     "name": "stdout",
     "text": "[[1. 1. 1. 1. 1.]\n [1. 1. 1. 1. 1.]\n [1. 1. 1. 1. 1.]] float32\ntensor([[1., 1., 1., 1., 1.],\n        [1., 1., 1., 1., 1.],\n        [1., 1., 1., 1., 1.]])\n"
    }
   ],
   "source": [
    "#torch和numpy的数据转换\n",
    "import numpy as np\n",
    "points = torch.ones(3, 5)\n",
    "points_np = points.numpy()\n",
    "print(points_np)\n",
    "points = torch.from_numpy(points_np)\n",
    "print(points)"
   ]
  },
  {
   "cell_type": "code",
   "execution_count": 52,
   "metadata": {
    "tags": []
   },
   "outputs": [
    {
     "output_type": "stream",
     "name": "stdout",
     "text": "tensor([[1., 1., 1., 1., 1.],\n        [1., 1., 1., 1., 1.],\n        [1., 1., 1., 1., 1.]])\ntensor([[1., 1., 1., 1., 1.],\n        [1., 1., 1., 1., 1.],\n        [1., 1., 1., 1., 1.]])\n"
    }
   ],
   "source": [
    "#序列化pytorch张量\n",
    "points = torch.ones(3, 5)\n",
    "torch.save(points, './data/points.t')\n",
    "\n",
    "points_f = points\n",
    "with open('./data/points_f.t', 'wb') as f:\n",
    "    torch.save(points, f)\n",
    "\n",
    "print(points)\n",
    "print(points_f)"
   ]
  },
  {
   "cell_type": "code",
   "execution_count": 54,
   "metadata": {
    "tags": []
   },
   "outputs": [
    {
     "output_type": "stream",
     "name": "stdout",
     "text": "tensor([[ 0.3242,  0.0867, -0.5794,  0.3694, -0.6076],\n        [ 0.6449, -1.3153,  0.7836, -0.6716, -1.4027],\n        [-1.5045, -0.7690,  0.5892, -0.2339,  0.9489]])\ntensor([[ 0.3242,  0.0867, -0.5794,  0.3694, -0.6076],\n        [ 0.6449, -1.3153,  0.7836, -0.6716, -1.4027],\n        [-1.5045, -0.7690,  0.5892, -0.2339,  0.9489]])\n"
    }
   ],
   "source": [
    "points_f = points = torch.randn(3, 5)\n",
    "print(points)\n",
    "print(points_f)"
   ]
  },
  {
   "cell_type": "code",
   "execution_count": 55,
   "metadata": {
    "tags": []
   },
   "outputs": [
    {
     "output_type": "stream",
     "name": "stdout",
     "text": "tensor([[1., 1., 1., 1., 1.],\n        [1., 1., 1., 1., 1.],\n        [1., 1., 1., 1., 1.]])\ntensor([[1., 1., 1., 1., 1.],\n        [1., 1., 1., 1., 1.],\n        [1., 1., 1., 1., 1.]])\n"
    }
   ],
   "source": [
    "#反序列化pytorch张量\n",
    "points = torch.load('./data/points.t')\n",
    "\n",
    "with open('./data/points_f.t', 'rb') as f:\n",
    "    points_f = torch.load(f)\n",
    "\n",
    "print(points)\n",
    "print(points_f)"
   ]
  },
  {
   "cell_type": "code",
   "execution_count": 76,
   "metadata": {
    "tags": []
   },
   "outputs": [
    {
     "output_type": "stream",
     "name": "stdout",
     "text": "torch.Size([9]) (1,) 0\n"
    }
   ],
   "source": [
    "#练习\n",
    "a = torch.tensor(list(range(9)))\n",
    "print(a.size(), a.stride(), a.storage_offset())"
   ]
  },
  {
   "cell_type": "code",
   "execution_count": 65,
   "metadata": {
    "tags": []
   },
   "outputs": [
    {
     "output_type": "stream",
     "name": "stdout",
     "text": "tensor(4)\ntorch.Size([3, 3]) (3, 1) 0\n"
    }
   ],
   "source": [
    "b = a.reshape(3, 3)\n",
    "print(b[1,1])\n",
    "print(b.size(), b.stride(), b.storage_offset())"
   ]
  },
  {
   "cell_type": "code",
   "execution_count": 67,
   "metadata": {
    "tags": []
   },
   "outputs": [
    {
     "output_type": "stream",
     "name": "stdout",
     "text": "tensor([[4, 5],\n        [7, 8]])\ntorch.Size([2, 2]) (3, 1) 4\n"
    }
   ],
   "source": [
    "c = b[1:, 1:]\n",
    "print(c)\n",
    "print(c.size(), c.stride(), c.storage_offset())"
   ]
  },
  {
   "cell_type": "code",
   "execution_count": 79,
   "metadata": {
    "tags": []
   },
   "outputs": [
    {
     "output_type": "stream",
     "name": "stdout",
     "text": "tensor([0.0000, 1.0000, 1.4142, 1.7321, 2.0000, 2.2361, 2.4495, 2.6458, 2.8284],\n       dtype=torch.float64)\ntensor([0.0000, 1.0000, 1.4142, 1.7321, 2.0000, 2.2361, 2.4495, 2.6458, 2.8284],\n       dtype=torch.float64)\n"
    }
   ],
   "source": [
    "d = torch.sqrt(a.to(torch.double))\n",
    "print(d)\n",
    "a = a.to(torch.double)\n",
    "torch.sqrt_(a)\n",
    "print(a)"
   ]
  }
 ],
 "metadata": {
  "kernelspec": {
   "display_name": "PyTorch",
   "language": "python",
   "name": "pytorch"
  },
  "language_info": {
   "codemirror_mode": {
    "name": "ipython",
    "version": 3
   },
   "file_extension": ".py",
   "mimetype": "text/x-python",
   "name": "python",
   "nbconvert_exporter": "python",
   "pygments_lexer": "ipython3",
   "version": "3.6.10-final"
  }
 },
 "nbformat": 4,
 "nbformat_minor": 2
}